{
 "cells": [
  {
   "cell_type": "markdown",
   "metadata": {},
   "source": [
    "# RAG vs. LLM Comparison Notebook\n",
    "\n",
    "This notebook compares the performance (accuracy, latency, and quality) of the Retrieval-Augmented Generation (RAG) pipeline versus a pure LLM (no retrieval) for the Jupiter FAQ Bot.\n",
    "\n",
    "## Instructions\n",
    "- Set your HuggingFace API key in the environment variable `HF_API_KEY`.\n",
    "- Run all cells to compare answers for a set of test questions.\n",
    "- Results will include latency and answer quality for both approaches."
   ]
  },
  {
   "cell_type": "code",
   "execution_count": null,
   "metadata": {},
   "outputs": [
    {
     "name": "stderr",
     "output_type": "stream",
     "text": [
      "/Users/sanya/Downloads/FAQ-Bot/venv/lib/python3.13/site-packages/tqdm/auto.py:21: TqdmWarning: IProgress not found. Please update jupyter and ipywidgets. See https://ipywidgets.readthedocs.io/en/stable/user_install.html\n",
      "  from .autonotebook import tqdm as notebook_tqdm\n"
     ]
    }
   ],
   "source": [
    "import os\n",
    "import time\n",
    "import requests\n",
    "import pandas as pd\n",
    "from models.rag_pipeline import rag_answer\n",
    "from models.llm_inference import query_huggingface_llm  "
   ]
  },
  {
   "cell_type": "code",
   "execution_count": 2,
   "metadata": {},
   "outputs": [],
   "source": [
    "# Prompt for API key if not set\n",
    "if \"HF_API_KEY\" not in os.environ or not isinstance(os.environ[\"HF_API_KEY\"], str) or not os.environ[\"HF_API_KEY\"]:\n",
    "    api_key = input(\"Enter your HuggingFace API key: \")\n",
    "    os.environ[\"HF_API_KEY\"] = str(api_key)\n",
    "\n",
    "# Validate the API key with a quick test request\n",
    "try:\n",
    "    test_response = requests.get(\n",
    "        \"https://api-inference.huggingface.co/models/bert-base-uncased\",\n",
    "        headers={\"Authorization\": f\"Bearer {os.environ['HF_API_KEY']}\"}\n",
    "    )\n",
    "    if test_response.status_code == 401:\n",
    "        raise ValueError(\"Invalid HuggingFace API key. Please check and try again.\")\n",
    "    elif test_response.status_code != 200:\n",
    "        print(f\"Warning: Unexpected response ({test_response.status_code}): {test_response.text}\")\n",
    "    else:\n",
    "        print(\"HuggingFace API key is valid.\")\n",
    "except Exception as e:\n",
    "    raise RuntimeError(f\"Error validating HuggingFace API key: {e}\")"
   ]
  },
  {
   "cell_type": "markdown",
   "metadata": {},
   "source": [
    "## Define Test Questions\n",
    "You can edit or expand this list as needed."
   ]
  },
  {
   "cell_type": "code",
   "execution_count": 3,
   "metadata": {},
   "outputs": [],
   "source": [
    "test_questions = [\n",
    "    \"what is jupiter money\",\n",
    "    \"how to do kyc\",\n",
    "    \"how can I get a debit card\",\n",
    "    \"how to transfer money\",\n",
    "    \"is jupiter a bank\",\n",
    "    \"how to get passbook\",\n",
    "    \"how to set pin for debit card\"\n",
    "]"
   ]
  },
  {
   "cell_type": "markdown",
   "metadata": {},
   "source": [
    "## Run RAG and LLM-only for Each Question\n",
    "We will time each approach and collect the answers."
   ]
  },
  {
   "cell_type": "code",
   "execution_count": 9,
   "metadata": {},
   "outputs": [
    {
     "data": {
      "text/html": [
       "<div>\n",
       "<style scoped>\n",
       "    .dataframe tbody tr th:only-of-type {\n",
       "        vertical-align: middle;\n",
       "    }\n",
       "\n",
       "    .dataframe tbody tr th {\n",
       "        vertical-align: top;\n",
       "    }\n",
       "\n",
       "    .dataframe thead th {\n",
       "        text-align: right;\n",
       "    }\n",
       "</style>\n",
       "<table border=\"1\" class=\"dataframe\">\n",
       "  <thead>\n",
       "    <tr style=\"text-align: right;\">\n",
       "      <th></th>\n",
       "      <th>question</th>\n",
       "      <th>rag_answer</th>\n",
       "      <th>faq_match</th>\n",
       "      <th>rag_time</th>\n",
       "      <th>llm_only_answer</th>\n",
       "      <th>llm_time</th>\n",
       "    </tr>\n",
       "  </thead>\n",
       "  <tbody>\n",
       "    <tr>\n",
       "      <th>0</th>\n",
       "      <td>what is jupiter money</td>\n",
       "      <td>Jupiter Money is an all-in-one mobile app that...</td>\n",
       "      <td>Jupiter is the 1-app for everything money that...</td>\n",
       "      <td>1.420948</td>\n",
       "      <td>Answer the following user question in a friend...</td>\n",
       "      <td>0.695624</td>\n",
       "    </tr>\n",
       "    <tr>\n",
       "      <th>1</th>\n",
       "      <td>how to do kyc</td>\n",
       "      <td>Great question! To complete your KYC (Know You...</td>\n",
       "      <td>To open a free Savings or Salary Bank Account ...</td>\n",
       "      <td>0.806431</td>\n",
       "      <td>Answer the following user question in a friend...</td>\n",
       "      <td>0.845341</td>\n",
       "    </tr>\n",
       "    <tr>\n",
       "      <th>2</th>\n",
       "      <td>how can I get a debit card</td>\n",
       "      <td>You can order a new physical Debit Card by tap...</td>\n",
       "      <td>You can order a new physical Debit Card by tap...</td>\n",
       "      <td>0.863916</td>\n",
       "      <td>Answer the following user question in a friend...</td>\n",
       "      <td>0.366537</td>\n",
       "    </tr>\n",
       "    <tr>\n",
       "      <th>3</th>\n",
       "      <td>how to transfer money</td>\n",
       "      <td>There are many ways to transfer money from Jup...</td>\n",
       "      <td>There are many ways to transfer money from Jup...</td>\n",
       "      <td>11.187971</td>\n",
       "      <td>Answer the following user question in a friend...</td>\n",
       "      <td>18.817686</td>\n",
       "    </tr>\n",
       "    <tr>\n",
       "      <th>4</th>\n",
       "      <td>is jupiter a bank</td>\n",
       "      <td>Jupiter is itself not a bank and doesn’t hold ...</td>\n",
       "      <td>Jupiter is itself not a bank and doesn’t hold ...</td>\n",
       "      <td>1.819305</td>\n",
       "      <td>Answer the following user question in a friend...</td>\n",
       "      <td>5.346659</td>\n",
       "    </tr>\n",
       "    <tr>\n",
       "      <th>5</th>\n",
       "      <td>how to get passbook</td>\n",
       "      <td>You can request for a passbook by visiting you...</td>\n",
       "      <td>You can request for a passbook by visiting you...</td>\n",
       "      <td>6.703232</td>\n",
       "      <td>Answer the following user question in a friend...</td>\n",
       "      <td>20.653836</td>\n",
       "    </tr>\n",
       "    <tr>\n",
       "      <th>6</th>\n",
       "      <td>how to set pin for debit card</td>\n",
       "      <td>You can set/ reset your Debit Card PIN by tapp...</td>\n",
       "      <td>You can set/ reset your Debit Card PIN by tapp...</td>\n",
       "      <td>13.705848</td>\n",
       "      <td>Answer the following user question in a friend...</td>\n",
       "      <td>16.326591</td>\n",
       "    </tr>\n",
       "  </tbody>\n",
       "</table>\n",
       "</div>"
      ],
      "text/plain": [
       "                        question  \\\n",
       "0          what is jupiter money   \n",
       "1                  how to do kyc   \n",
       "2     how can I get a debit card   \n",
       "3          how to transfer money   \n",
       "4              is jupiter a bank   \n",
       "5            how to get passbook   \n",
       "6  how to set pin for debit card   \n",
       "\n",
       "                                          rag_answer  \\\n",
       "0  Jupiter Money is an all-in-one mobile app that...   \n",
       "1  Great question! To complete your KYC (Know You...   \n",
       "2  You can order a new physical Debit Card by tap...   \n",
       "3  There are many ways to transfer money from Jup...   \n",
       "4  Jupiter is itself not a bank and doesn’t hold ...   \n",
       "5  You can request for a passbook by visiting you...   \n",
       "6  You can set/ reset your Debit Card PIN by tapp...   \n",
       "\n",
       "                                           faq_match   rag_time  \\\n",
       "0  Jupiter is the 1-app for everything money that...   1.420948   \n",
       "1  To open a free Savings or Salary Bank Account ...   0.806431   \n",
       "2  You can order a new physical Debit Card by tap...   0.863916   \n",
       "3  There are many ways to transfer money from Jup...  11.187971   \n",
       "4  Jupiter is itself not a bank and doesn’t hold ...   1.819305   \n",
       "5  You can request for a passbook by visiting you...   6.703232   \n",
       "6  You can set/ reset your Debit Card PIN by tapp...  13.705848   \n",
       "\n",
       "                                     llm_only_answer   llm_time  \n",
       "0  Answer the following user question in a friend...   0.695624  \n",
       "1  Answer the following user question in a friend...   0.845341  \n",
       "2  Answer the following user question in a friend...   0.366537  \n",
       "3  Answer the following user question in a friend...  18.817686  \n",
       "4  Answer the following user question in a friend...   5.346659  \n",
       "5  Answer the following user question in a friend...  20.653836  \n",
       "6  Answer the following user question in a friend...  16.326591  "
      ]
     },
     "execution_count": 9,
     "metadata": {},
     "output_type": "execute_result"
    }
   ],
   "source": [
    "results = []\n",
    "for q in test_questions:\n",
    "    # RAG\n",
    "    start = time.time()\n",
    "    rag_result = rag_answer(q)\n",
    "    rag_time = time.time() - start\n",
    "\n",
    "    # LLM only\n",
    "    llm_prompt = f\"Answer the following user question in a friendly, helpful way. If you do not know, say so.\\nUser question: {q}\"\n",
    "    start = time.time()\n",
    "    llm_only_answer = query_huggingface_llm(llm_prompt)\n",
    "    llm_time = time.time() - start\n",
    "\n",
    "    results.append({\n",
    "        \"question\": q,\n",
    "        \"rag_answer\": rag_result[\"llm_response\"],\n",
    "        \"faq_match\": rag_result[\"retrieved_faq\"][\"answer\"],\n",
    "        \"rag_time\": rag_time,\n",
    "        \"llm_only_answer\": llm_only_answer,\n",
    "        \"llm_time\": llm_time\n",
    "    })\n",
    "\n",
    "df = pd.DataFrame(results)\n",
    "df"
   ]
  },
  {
   "cell_type": "code",
   "execution_count": 11,
   "metadata": {},
   "outputs": [],
   "source": [
    "df.to_csv(\"rag_vs_llm_results.csv\", index=False)\n"
   ]
  },
  {
   "cell_type": "code",
   "execution_count": 10,
   "metadata": {},
   "outputs": [
    {
     "name": "stdout",
     "output_type": "stream",
     "text": [
      "Average RAG latency: 5.215378761291504\n",
      "Average LLM-only latency: 9.007467678615026\n"
     ]
    }
   ],
   "source": [
    "print(\"Average RAG latency:\", df['rag_time'].mean())\n",
    "print(\"Average LLM-only latency:\", df['llm_time'].mean())"
   ]
  }
 ],
 "metadata": {
  "kernelspec": {
   "display_name": "venv",
   "language": "python",
   "name": "python3"
  },
  "language_info": {
   "codemirror_mode": {
    "name": "ipython",
    "version": 3
   },
   "file_extension": ".py",
   "mimetype": "text/x-python",
   "name": "python",
   "nbconvert_exporter": "python",
   "pygments_lexer": "ipython3",
   "version": "3.13.5"
  }
 },
 "nbformat": 4,
 "nbformat_minor": 2
}
